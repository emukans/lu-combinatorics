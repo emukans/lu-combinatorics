{
 "cells": [
  {
   "cell_type": "code",
   "execution_count": 29,
   "metadata": {},
   "outputs": [],
   "source": [
    "def save_results(results):\n",
    "    with open('izeja.txt', 'w') as file:\n",
    "        file.writelines(''.join([str(i) for i in results]))\n",
    "        \n",
    "def parse_input():\n",
    "    result = []\n",
    "\n",
    "    with open('ieeja.txt') as file:\n",
    "        try:\n",
    "            m = int(file.readline())\n",
    "            n = int(file.readline())\n",
    "        except ValueError:\n",
    "            print('Number of sets is not correct')\n",
    "            return\n",
    "\n",
    "        return m, n\n",
    "\n",
    "\n",
    "def de_bruijn(m, n):\n",
    "    '''\n",
    "    An implementation of the FKM algorithm for generating the de Bruijn\n",
    "    sequence containing all n-ary strings of length m, as described in\n",
    "    \"Combinatorial Generation\" by Frank Ruskey.\n",
    "    '''\n",
    " \n",
    "    a = [0] * (m + 1)\n",
    "\n",
    "    def gen(t, p):\n",
    "        if t > m:\n",
    "            for v in a[1:p + 1]:\n",
    "                yield v\n",
    "        else:\n",
    "            a[t] = a[t - p]\n",
    "\n",
    "            for v in gen(t + 1, p):\n",
    "                yield v\n",
    "\n",
    "            for j in range(a[t - p] + 1, n):\n",
    "                a[t] = j\n",
    "                for v in gen(t + 1, t):\n",
    "                    yield v\n",
    "\n",
    "    return gen(1, 1)\n",
    "    \n",
    "m, n = parse_input()\n",
    "graph_generator = de_bruijn(m, n)\n",
    "\n",
    "save_results(graph_generator)"
   ]
  },
  {
   "cell_type": "code",
   "execution_count": 30,
   "metadata": {},
   "outputs": [
    {
     "data": {
      "text/plain": [
       "9"
      ]
     },
     "execution_count": 30,
     "metadata": {},
     "output_type": "execute_result"
    }
   ],
   "source": [
    "len('001021122')"
   ]
  }
 ],
 "metadata": {
  "kernelspec": {
   "display_name": "Python 3",
   "language": "python",
   "name": "python3"
  },
  "language_info": {
   "codemirror_mode": {
    "name": "ipython",
    "version": 3
   },
   "file_extension": ".py",
   "mimetype": "text/x-python",
   "name": "python",
   "nbconvert_exporter": "python",
   "pygments_lexer": "ipython3",
   "version": "3.7.4"
  }
 },
 "nbformat": 4,
 "nbformat_minor": 4
}
