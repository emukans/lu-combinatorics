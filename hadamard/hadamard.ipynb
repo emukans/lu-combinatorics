{
 "cells": [
  {
   "cell_type": "code",
   "execution_count": 1,
   "metadata": {},
   "outputs": [],
   "source": [
    "def verify_input(p):\n",
    "    return p % 4 == 3"
   ]
  },
  {
   "cell_type": "code",
   "execution_count": 2,
   "metadata": {},
   "outputs": [],
   "source": [
    "with open('ieeja.txt') as file:\n",
    "    try:\n",
    "        p = int(file.readline())\n",
    "        assert verify_input(p)\n",
    "    except (ValueError, AssertionError):\n",
    "        print('p is not defined or incorrect')"
   ]
  },
  {
   "cell_type": "code",
   "execution_count": 1,
   "metadata": {},
   "outputs": [
    {
     "name": "stdout",
     "output_type": "stream",
     "text": [
      "[[ 1  1]\n",
      " [ 1 -1]]\n"
     ]
    }
   ],
   "source": [
    "import math\n",
    "\n",
    "\n",
    "def invertRow(row):\n",
    "    rowInv = row[:]\n",
    "    for i in range(len(row)):\n",
    "        if row[i] > 0:\n",
    "            rowInv[i] = -1\n",
    "        else:\n",
    "            rowInv[i] = 1\n",
    "    return rowInv\n",
    "\n",
    "def scaleMatrix(matrix):\n",
    "    resultMatrix = []\n",
    "\n",
    "    for i in range(len(matrix)):\n",
    "        resultMatrix += [matrix[i]+matrix[i]]\n",
    "        \n",
    "    for i in range(len(matrix)):\n",
    "        resultMatrix += [matrix[i]+invertRow(matrix[i])]\n",
    "\n",
    "    return resultMatrix\n",
    "\n",
    "def buildHadamard():\n",
    "    matrix = [[1]]\n",
    "    matrix_length = 2\n",
    "\n",
    "    for _ in range(int(math.log2(matrix_length))):\n",
    "        matrix = scaleMatrix(matrix)\n",
    "\n",
    "    return matrix \n",
    "\n",
    "def save_results(matrix):\n",
    "    with open('izeja.txt', 'w') as file:\n",
    "        file.writelines([f\"{' '.join([str(i) for i in matrix[line]])}\\n\" for line in range(len(matrix))])\n",
    "        \n",
    "\n",
    "matrix = buildHadamard()\n",
    "import numpy as np\n",
    "print(np.asarray(matrix))\n",
    "# save_results(matrix)"
   ]
  },
  {
   "cell_type": "code",
   "execution_count": null,
   "metadata": {},
   "outputs": [],
   "source": [
    "# Ieejas dati:\n",
    "\n",
    "    p = 3\n",
    "\n",
    "# Izējas dati:\n",
    "\n",
    "    Matrica ar lielumu (p + 1)^2 = 16\n",
    "\n",
    "    1 1 1 1 1 1 1 1 1 1 1 1 1 1 1 1\n",
    "    1 -1 1 -1 1 -1 1 -1 1 -1 1 -1 1 -1 1 -1\n",
    "    1 1 -1 -1 1 1 -1 -1 1 1 -1 -1 1 1 -1 -1\n",
    "    1 -1 -1 1 1 -1 -1 1 1 -1 -1 1 1 -1 -1 1\n",
    "    1 1 1 1 -1 -1 -1 -1 1 1 1 1 -1 -1 -1 -1\n",
    "    1 -1 1 -1 -1 1 -1 1 1 -1 1 -1 -1 1 -1 1\n",
    "    1 1 -1 -1 -1 -1 1 1 1 1 -1 -1 -1 -1 1 1\n",
    "    1 -1 -1 1 -1 1 1 -1 1 -1 -1 1 -1 1 1 -1\n",
    "    1 1 1 1 1 1 1 1 -1 -1 -1 -1 -1 -1 -1 -1\n",
    "    1 -1 1 -1 1 -1 1 -1 -1 1 -1 1 -1 1 -1 1\n",
    "    1 1 -1 -1 1 1 -1 -1 -1 -1 1 1 -1 -1 1 1\n",
    "    1 -1 -1 1 1 -1 -1 1 -1 1 1 -1 -1 1 1 -1\n",
    "    1 1 1 1 -1 -1 -1 -1 -1 -1 -1 -1 1 1 1 1\n",
    "    1 -1 1 -1 -1 1 -1 1 -1 1 -1 1 1 -1 1 -1\n",
    "    1 1 -1 -1 -1 -1 1 1 -1 -1 1 1 1 1 -1 -1\n",
    "    1 -1 -1 1 -1 1 1 -1 -1 1 1 -1 1 -1 -1 1"
   ]
  },
  {
   "cell_type": "code",
   "execution_count": 3,
   "metadata": {},
   "outputs": [
    {
     "name": "stdout",
     "output_type": "stream",
     "text": [
      "[[ 1  1  1  1  1  1  1  1  1  1  1  1  1  1  1  1]\n",
      " [ 1 -1  1 -1  1 -1  1 -1  1 -1  1 -1  1 -1  1 -1]\n",
      " [ 1  1 -1 -1  1  1 -1 -1  1  1 -1 -1  1  1 -1 -1]\n",
      " [ 1 -1 -1  1  1 -1 -1  1  1 -1 -1  1  1 -1 -1  1]\n",
      " [ 1  1  1  1 -1 -1 -1 -1  1  1  1  1 -1 -1 -1 -1]\n",
      " [ 1 -1  1 -1 -1  1 -1  1  1 -1  1 -1 -1  1 -1  1]\n",
      " [ 1  1 -1 -1 -1 -1  1  1  1  1 -1 -1 -1 -1  1  1]\n",
      " [ 1 -1 -1  1 -1  1  1 -1  1 -1 -1  1 -1  1  1 -1]\n",
      " [ 1  1  1  1  1  1  1  1 -1 -1 -1 -1 -1 -1 -1 -1]\n",
      " [ 1 -1  1 -1  1 -1  1 -1 -1  1 -1  1 -1  1 -1  1]\n",
      " [ 1  1 -1 -1  1  1 -1 -1 -1 -1  1  1 -1 -1  1  1]\n",
      " [ 1 -1 -1  1  1 -1 -1  1 -1  1  1 -1 -1  1  1 -1]\n",
      " [ 1  1  1  1 -1 -1 -1 -1 -1 -1 -1 -1  1  1  1  1]\n",
      " [ 1 -1  1 -1 -1  1 -1  1 -1  1 -1  1  1 -1  1 -1]\n",
      " [ 1  1 -1 -1 -1 -1  1  1 -1 -1  1  1  1  1 -1 -1]\n",
      " [ 1 -1 -1  1 -1  1  1 -1 -1  1  1 -1  1 -1 -1  1]]\n"
     ]
    }
   ],
   "source": [
    "def invertRow(row):\n",
    "    rowInv = row[:]\n",
    "    for i in range(len(row)):\n",
    "        if row[i] > 0:\n",
    "            rowInv[i] = -1\n",
    "        else:\n",
    "            rowInv[i] = 1\n",
    "    return rowInv\n",
    "\n",
    "def scaleMatrix(matrix):\n",
    "    resultMatrix = []\n",
    "\n",
    "    for i in range(len(matrix)):\n",
    "        resultMatrix += [matrix[i]+matrix[i]]\n",
    "        \n",
    "    for i in range(len(matrix)):\n",
    "        resultMatrix += [matrix[i]+invertRow(matrix[i])]\n",
    "\n",
    "    return resultMatrix\n",
    "\n",
    "def mainCode():\n",
    "    matrix = [[1]]\n",
    "    dim = 1\n",
    "\n",
    "    while (dim < 12):\n",
    "        matrix = scaleMatrix(matrix)\n",
    "        dim *= 2\n",
    "\n",
    "    return matrix \n",
    "\n",
    "        \n",
    "matrix = mainCode()\n",
    "print(np.asarray(matrix))\n",
    "#verifyOrthogonal(matrix) #test"
   ]
  },
  {
   "cell_type": "code",
   "execution_count": null,
   "metadata": {},
   "outputs": [],
   "source": []
  }
 ],
 "metadata": {
  "kernelspec": {
   "display_name": "Python 3",
   "language": "python",
   "name": "python3"
  },
  "language_info": {
   "codemirror_mode": {
    "name": "ipython",
    "version": 3
   },
   "file_extension": ".py",
   "mimetype": "text/x-python",
   "name": "python",
   "nbconvert_exporter": "python",
   "pygments_lexer": "ipython3",
   "version": "3.7.4"
  }
 },
 "nbformat": 4,
 "nbformat_minor": 4
}
