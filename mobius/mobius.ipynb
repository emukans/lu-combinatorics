{
 "cells": [
  {
   "cell_type": "code",
   "execution_count": 2,
   "metadata": {},
   "outputs": [],
   "source": [
    "def find_posets():\n",
    "    result = []\n",
    "\n",
    "    with open('ieeja.txt') as file:\n",
    "        try:\n",
    "            number_of_sets = int(file.readline())\n",
    "        except ValueError:\n",
    "            print('Number of sets is not correct')\n",
    "            return\n",
    "\n",
    "        for _ in range(number_of_sets):\n",
    "            candidate = file.readline()\n",
    "            interval = []\n",
    "            interval_indexes = [0]\n",
    "            for index, item in enumerate(candidate):\n",
    "                if not len(interval) or interval[-1] <= item:\n",
    "                    interval.append(item)\n",
    "                    continue\n",
    "                \n",
    "                interval_indexes.append(index)\n",
    "                break\n",
    "                \n",
    "            mobius = calculate_mobius(interval)\n",
    "            result.append((interval_indexes, mobius))\n",
    "\n",
    "    return result\n",
    "\n",
    "def save_results(results):\n",
    "    with open('izeja.txt', 'w') as file:\n",
    "        file.writelines([f\"{interval} {mobius}\\n\" for interval, mobius in results])\n",
    "    \n",
    "            \n",
    "def calculate_mobius(poset):\n",
    "    mobius = 0\n",
    "    accumulate = 0\n",
    "    \n",
    "    for index, _ in enumerate(poset):\n",
    "        if accumulate:\n",
    "            mobius = -1\n",
    "            accumulate = 0\n",
    "            continue\n",
    "            \n",
    "        mobius = 1\n",
    "        accumulate = 1\n",
    "        \n",
    "    return mobius\n",
    "            \n",
    "        \n",
    "            \n",
    "posets = find_posets()\n",
    "save_results(posets)"
   ]
  },
  {
   "cell_type": "code",
   "execution_count": null,
   "metadata": {},
   "outputs": [],
   "source": []
  }
 ],
 "metadata": {
  "kernelspec": {
   "display_name": "Python 3",
   "language": "python",
   "name": "python3"
  },
  "language_info": {
   "codemirror_mode": {
    "name": "ipython",
    "version": 3
   },
   "file_extension": ".py",
   "mimetype": "text/x-python",
   "name": "python",
   "nbconvert_exporter": "python",
   "pygments_lexer": "ipython3",
   "version": "3.7.4"
  }
 },
 "nbformat": 4,
 "nbformat_minor": 4
}
